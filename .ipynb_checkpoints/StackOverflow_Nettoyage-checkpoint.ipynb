{
 "cells": [
  {
   "cell_type": "code",
   "execution_count": 55,
   "id": "33437d39-4295-4665-99d6-ff258f4c87b1",
   "metadata": {},
   "outputs": [
    {
     "name": "stderr",
     "output_type": "stream",
     "text": [
      "[nltk_data] Downloading package stopwords to\n",
      "[nltk_data]     C:\\Users\\maudt\\AppData\\Roaming\\nltk_data...\n",
      "[nltk_data]   Package stopwords is already up-to-date!\n",
      "[nltk_data] Downloading package wordnet to\n",
      "[nltk_data]     C:\\Users\\maudt\\AppData\\Roaming\\nltk_data...\n",
      "[nltk_data]   Package wordnet is already up-to-date!\n"
     ]
    },
    {
     "name": "stdout",
     "output_type": "stream",
     "text": [
      "WARNING:tensorflow:From C:\\Users\\maudt\\anaconda3\\Lib\\site-packages\\tf_keras\\src\\losses.py:2976: The name tf.losses.sparse_softmax_cross_entropy is deprecated. Please use tf.compat.v1.losses.sparse_softmax_cross_entropy instead.\n",
      "\n"
     ]
    },
    {
     "data": {
      "text/html": [
       "<style>.output_scroll { height: auto !important; }</style>"
      ],
      "text/plain": [
       "<IPython.core.display.HTML object>"
      ]
     },
     "metadata": {},
     "output_type": "display_data"
    },
    {
     "data": {
      "text/html": [
       "<div>\n",
       "<style scoped>\n",
       "    .dataframe tbody tr th:only-of-type {\n",
       "        vertical-align: middle;\n",
       "    }\n",
       "\n",
       "    .dataframe tbody tr th {\n",
       "        vertical-align: top;\n",
       "    }\n",
       "\n",
       "    .dataframe thead th {\n",
       "        text-align: right;\n",
       "    }\n",
       "</style>\n",
       "<table border=\"1\" class=\"dataframe\">\n",
       "  <thead>\n",
       "    <tr style=\"text-align: right;\">\n",
       "      <th></th>\n",
       "      <th>title</th>\n",
       "      <th>body</th>\n",
       "      <th>link</th>\n",
       "      <th>view_count</th>\n",
       "      <th>score</th>\n",
       "      <th>tags</th>\n",
       "    </tr>\n",
       "  </thead>\n",
       "  <tbody>\n",
       "    <tr>\n",
       "      <th>0</th>\n",
       "      <td>Why is processing a sorted array faster than p...</td>\n",
       "      <td>&lt;p&gt;In this C++ code, sorting the data (&lt;em&gt;bef...</td>\n",
       "      <td>https://stackoverflow.com/questions/11227809/w...</td>\n",
       "      <td>1894410</td>\n",
       "      <td>27300</td>\n",
       "      <td>java,c++,performance,cpu-architecture,branch-p...</td>\n",
       "    </tr>\n",
       "    <tr>\n",
       "      <th>1</th>\n",
       "      <td>How do I delete a Git branch locally and remot...</td>\n",
       "      <td>&lt;p&gt;Failed Attempts to Delete a Remote Branch:&lt;...</td>\n",
       "      <td>https://stackoverflow.com/questions/2003505/ho...</td>\n",
       "      <td>11766932</td>\n",
       "      <td>20374</td>\n",
       "      <td>git,version-control,git-branch,git-push,git-re...</td>\n",
       "    </tr>\n",
       "    <tr>\n",
       "      <th>2</th>\n",
       "      <td>What is the &amp;#39;--&amp;gt;&amp;#39; operator in C/C++?</td>\n",
       "      <td>&lt;p&gt;After reading &lt;a href=\"http://groups.google...</td>\n",
       "      <td>https://stackoverflow.com/questions/1642028/wh...</td>\n",
       "      <td>1018216</td>\n",
       "      <td>10170</td>\n",
       "      <td>c++,c,operators,code-formatting,standards-comp...</td>\n",
       "    </tr>\n",
       "    <tr>\n",
       "      <th>3</th>\n",
       "      <td>How do I force &amp;quot;git pull&amp;quot; to overwri...</td>\n",
       "      <td>&lt;p&gt;How do I force an overwrite of local files ...</td>\n",
       "      <td>https://stackoverflow.com/questions/1125968/ho...</td>\n",
       "      <td>8726770</td>\n",
       "      <td>9730</td>\n",
       "      <td>git,version-control,overwrite,git-pull,git-fetch</td>\n",
       "    </tr>\n",
       "    <tr>\n",
       "      <th>4</th>\n",
       "      <td>What and where are the stack and heap?</td>\n",
       "      <td>&lt;ul&gt;\\n&lt;li&gt;What are the stack and heap?&lt;/li&gt;\\n&lt;...</td>\n",
       "      <td>https://stackoverflow.com/questions/79923/what...</td>\n",
       "      <td>1950792</td>\n",
       "      <td>9450</td>\n",
       "      <td>data-structures,memory-management,heap-memory,...</td>\n",
       "    </tr>\n",
       "  </tbody>\n",
       "</table>\n",
       "</div>"
      ],
      "text/plain": [
       "                                               title  \\\n",
       "0  Why is processing a sorted array faster than p...   \n",
       "1  How do I delete a Git branch locally and remot...   \n",
       "2    What is the &#39;--&gt;&#39; operator in C/C++?   \n",
       "3  How do I force &quot;git pull&quot; to overwri...   \n",
       "4             What and where are the stack and heap?   \n",
       "\n",
       "                                                body  \\\n",
       "0  <p>In this C++ code, sorting the data (<em>bef...   \n",
       "1  <p>Failed Attempts to Delete a Remote Branch:<...   \n",
       "2  <p>After reading <a href=\"http://groups.google...   \n",
       "3  <p>How do I force an overwrite of local files ...   \n",
       "4  <ul>\\n<li>What are the stack and heap?</li>\\n<...   \n",
       "\n",
       "                                                link  view_count  score  \\\n",
       "0  https://stackoverflow.com/questions/11227809/w...     1894410  27300   \n",
       "1  https://stackoverflow.com/questions/2003505/ho...    11766932  20374   \n",
       "2  https://stackoverflow.com/questions/1642028/wh...     1018216  10170   \n",
       "3  https://stackoverflow.com/questions/1125968/ho...     8726770   9730   \n",
       "4  https://stackoverflow.com/questions/79923/what...     1950792   9450   \n",
       "\n",
       "                                                tags  \n",
       "0  java,c++,performance,cpu-architecture,branch-p...  \n",
       "1  git,version-control,git-branch,git-push,git-re...  \n",
       "2  c++,c,operators,code-formatting,standards-comp...  \n",
       "3   git,version-control,overwrite,git-pull,git-fetch  \n",
       "4  data-structures,memory-management,heap-memory,...  "
      ]
     },
     "execution_count": 55,
     "metadata": {},
     "output_type": "execute_result"
    }
   ],
   "source": [
    "import pandas as pd\n",
    "import numpy as np\n",
    "\n",
    "#Prétraitement\n",
    "from bs4 import BeautifulSoup\n",
    "import re\n",
    "import nltk\n",
    "from nltk.corpus import stopwords\n",
    "from nltk.stem import WordNetLemmatizer\n",
    "from sklearn.model_selection import train_test_split\n",
    "from sklearn.preprocessing import MultiLabelBinarizer\n",
    "\n",
    "nltk.download('stopwords')\n",
    "nltk.download('wordnet')\n",
    "\n",
    "#Extraction de features\n",
    "#Bag of words\n",
    "from sklearn.feature_extraction.text import CountVectorizer, TfidfVectorizer\n",
    "#Word2Vec\n",
    "from gensim.models import Word2Vec\n",
    "#BERT\n",
    "#from transformers import BertTokenizer, BertModel\n",
    "#import torch\n",
    "#USE\n",
    "import tensorflow_hub as hub\n",
    "\n",
    "#empecher les messages d'erreur\n",
    "import warnings\n",
    "warnings.filterwarnings('ignore')\n",
    "\n",
    "pd.set_option('display.max_columns', None)\n",
    "pd.set_option('display.max_rows', None)\n",
    "\n",
    "# Formatage taille cellule pour s'adapter aux graphiques\n",
    "from IPython.display import display, HTML\n",
    "display(HTML(\"<style>.output_scroll { height: auto !important; }</style>\"))\n",
    "\n",
    "\n",
    "df = pd.read_csv(\"./filtered_questions.csv\",sep=',', encoding='utf-8')  \n",
    "df.head(5)"
   ]
  },
  {
   "cell_type": "markdown",
   "id": "a8c9945d-0e83-4faa-aff0-3bbda3ba73c2",
   "metadata": {},
   "source": [
    "## Prétraitement de texte"
   ]
  },
  {
   "cell_type": "code",
   "execution_count": 57,
   "id": "883f6a5e-8258-4831-8d8e-b4494d0246b8",
   "metadata": {
    "scrolled": true
   },
   "outputs": [
    {
     "data": {
      "text/plain": [
       "0    processing sorted array faster processing unso...\n",
       "1                   delete git branch locally remotely\n",
       "2                                         operator c c\n",
       "3                  force git pull overwrite local file\n",
       "4                                           stack heap\n",
       "Name: clean_title, dtype: object"
      ]
     },
     "execution_count": 57,
     "metadata": {},
     "output_type": "execute_result"
    }
   ],
   "source": [
    "# Fonction pour nettoyer le texte\n",
    "def clean_text(text):\n",
    "    text = BeautifulSoup(text, \"html.parser\").get_text()  # Supprimer les balises HTML\n",
    "    text = re.sub(r'[^a-zA-Z]', ' ', text)  # Supprimer la ponctuation\n",
    "    words = text.lower().split()  # Mettre en minuscule et diviser en mots\n",
    "    stop_words = set(stopwords.words('english'))  # Obtenir les stopwords anglais\n",
    "    words = [w for w in words if w not in stop_words]  # Supprimer les stopwords\n",
    "    lemmatizer = WordNetLemmatizer()  # Initialiser le lemmatizer\n",
    "    words = [lemmatizer.lemmatize(w) for w in words]  # Lemmatization\n",
    "    return ' '.join(words)\n",
    "\n",
    "# Appliquer le nettoyage aux colonnes 'title' et 'body'\n",
    "df['clean_title'] = df['title'].apply(clean_text)\n",
    "df['clean_body'] = df['body'].apply(clean_text)\n",
    "\n",
    "# Séparer les tags en liste\n",
    "df['tags'] = df['tags'].apply(lambda x: x.split(','))\n",
    "\n",
    "# Binariser les tags\n",
    "mlb = MultiLabelBinarizer()\n",
    "df_tags = mlb.fit_transform(df['tags'])\n",
    "\n",
    "# Séparer les données en jeux d'entraînement et de test\n",
    "X_train, X_test, y_train, y_test = train_test_split(df[['clean_title', 'clean_body']], df_tags, test_size=0.2, random_state=42)\n",
    "\n",
    "# Afficher un aperçu des données nettoyées\n",
    "df['clean_title'].head()\n"
   ]
  },
  {
   "cell_type": "code",
   "execution_count": 59,
   "id": "65911110-89ea-4643-9a80-39c0b2ce5b52",
   "metadata": {},
   "outputs": [
    {
     "data": {
      "text/plain": [
       "0    c code sorting data timed region make primary ...\n",
       "1    failed attempt delete remote branch git branch...\n",
       "2    reading hidden feature dark corner c stl comp ...\n",
       "3    force overwrite local file git pull local repo...\n",
       "4    stack heap located physically computer memory ...\n",
       "Name: clean_body, dtype: object"
      ]
     },
     "execution_count": 59,
     "metadata": {},
     "output_type": "execute_result"
    }
   ],
   "source": [
    "df['clean_body'].head()"
   ]
  },
  {
   "cell_type": "markdown",
   "id": "ebefab09-1767-4c53-b4ab-41a9314c451f",
   "metadata": {},
   "source": [
    "## Extraction de Features"
   ]
  },
  {
   "cell_type": "markdown",
   "id": "56b954fb-9a42-49d6-a859-9dc27ae4cf4f",
   "metadata": {},
   "source": [
    "### Bag of Words"
   ]
  },
  {
   "cell_type": "code",
   "execution_count": 61,
   "id": "e95424ba-d0f1-45d0-9178-4935a93409a0",
   "metadata": {},
   "outputs": [],
   "source": [
    "# Créer le CountVectorizer pour 'title'\n",
    "count_vect = CountVectorizer()\n",
    "count_vect.fit(X_train['clean_title'])\n",
    "\n",
    "# Transformer 'title' et 'body' des jeux d'entraînement et de test\n",
    "X_train_count = count_vect.transform(X_train['clean_title'] + \" \" + X_train['clean_body'])\n",
    "X_test_count = count_vect.transform(X_test['clean_title'] + \" \" + X_test['clean_body'])\n",
    "\n",
    "# Créer le TfidfVectorizer pour 'title'\n",
    "tfidf_vect = TfidfVectorizer()\n",
    "tfidf_vect.fit(X_train['clean_title'])\n",
    "\n",
    "# Transformer 'title' et 'body' des jeux d'entraînement et de test\n",
    "X_train_tfidf = tfidf_vect.transform(X_train['clean_title'] + \" \" + X_train['clean_body'])\n",
    "X_test_tfidf = tfidf_vect.transform(X_test['clean_title'] + \" \" + X_test['clean_body'])"
   ]
  },
  {
   "cell_type": "markdown",
   "id": "a4f5b00b-c560-4800-a07e-8186f7369bb8",
   "metadata": {},
   "source": [
    "### Word2Vec"
   ]
  },
  {
   "cell_type": "code",
   "execution_count": 63,
   "id": "c735355d-e840-4727-b55d-a321f5380b2a",
   "metadata": {},
   "outputs": [],
   "source": [
    "# Préparer les phrases pour Word2Vec\n",
    "sentences = [text.split() for text in X_train['clean_title'] + \" \" + X_train['clean_body']]\n",
    "word2vec_model = Word2Vec(sentences, vector_size=100, window=5, min_count=1, workers=4)\n",
    "\n",
    "# Fonction pour obtenir la moyenne des embeddings Word2Vec pour un texte\n",
    "def get_w2v_features(text, model):\n",
    "    words = text.split()\n",
    "    word_vecs = [model.wv[word] for word in words if word in model.wv]\n",
    "    return np.mean(word_vecs, axis=0) if word_vecs else np.zeros(model.vector_size)\n",
    "\n",
    "# Appliquer aux jeux d'entraînement et de test\n",
    "X_train_w2v = np.array([get_w2v_features(text, word2vec_model) for text in X_train['clean_title'] + \" \" + X_train['clean_body']])\n",
    "X_test_w2v = np.array([get_w2v_features(text, word2vec_model) for text in X_test['clean_title'] + \" \" + X_test['clean_body']])"
   ]
  },
  {
   "cell_type": "markdown",
   "id": "0bf83d20-f5f4-4084-9414-218b110d22ce",
   "metadata": {},
   "source": [
    "### BERT"
   ]
  },
  {
   "cell_type": "code",
   "execution_count": null,
   "id": "961e6a48-2c61-4e62-96ca-ac9a87c60696",
   "metadata": {},
   "outputs": [],
   "source": [
    "# Initialiser le tokenizer et le modèle BERT\n",
    "tokenizer = BertTokenizer.from_pretrained('bert-base-uncased')\n",
    "bert_model = BertModel.from_pretrained('bert-base-uncased')\n",
    "\n",
    "# Fonction pour obtenir les embeddings BERT\n",
    "def get_bert_features(text, tokenizer, model):\n",
    "    inputs = tokenizer(text, return_tensors='pt', truncation=True, padding=True)\n",
    "    with torch.no_grad():\n",
    "        outputs = model(**inputs)\n",
    "    return outputs.last_hidden_state.mean(dim=1).numpy()\n",
    "\n",
    "# Appliquer aux jeux d'entraînement et de test\n",
    "X_train_bert = np.array([get_bert_features(text, tokenizer, bert_model).flatten() for text in X_train['clean_title'] + \" \" + X_train['clean_body']])\n",
    "X_test_bert = np.array([get_bert_features(text, tokenizer, bert_model).flatten() for text in X_test['clean_title'] + \" \" + X_test['clean_body']])"
   ]
  },
  {
   "cell_type": "markdown",
   "id": "96a0c133-9b23-46d9-9586-dd9e98211f13",
   "metadata": {},
   "source": [
    "### USE"
   ]
  },
  {
   "cell_type": "code",
   "execution_count": 65,
   "id": "78727f44-cfbb-4502-a127-ac7f4cfc1bd8",
   "metadata": {},
   "outputs": [
    {
     "name": "stdout",
     "output_type": "stream",
     "text": [
      "WARNING:tensorflow:From C:\\Users\\maudt\\anaconda3\\Lib\\site-packages\\tensorflow_hub\\resolver.py:120: The name tf.gfile.MakeDirs is deprecated. Please use tf.io.gfile.makedirs instead.\n",
      "\n"
     ]
    },
    {
     "name": "stderr",
     "output_type": "stream",
     "text": [
      "WARNING:tensorflow:From C:\\Users\\maudt\\anaconda3\\Lib\\site-packages\\tensorflow_hub\\resolver.py:120: The name tf.gfile.MakeDirs is deprecated. Please use tf.io.gfile.makedirs instead.\n",
      "\n"
     ]
    },
    {
     "name": "stdout",
     "output_type": "stream",
     "text": [
      "WARNING:tensorflow:From C:\\Users\\maudt\\anaconda3\\Lib\\site-packages\\tensorflow_hub\\module_v2.py:126: The name tf.saved_model.load_v2 is deprecated. Please use tf.compat.v2.saved_model.load instead.\n",
      "\n"
     ]
    },
    {
     "name": "stderr",
     "output_type": "stream",
     "text": [
      "WARNING:tensorflow:From C:\\Users\\maudt\\anaconda3\\Lib\\site-packages\\tensorflow_hub\\module_v2.py:126: The name tf.saved_model.load_v2 is deprecated. Please use tf.compat.v2.saved_model.load instead.\n",
      "\n"
     ]
    }
   ],
   "source": [
    "# Charger le modèle USE\n",
    "use_model = hub.load(\"https://tfhub.dev/google/universal-sentence-encoder/4\")\n",
    "\n",
    "# Fonction pour obtenir les embeddings USE\n",
    "def get_use_features(text, model):\n",
    "    return model([text]).numpy().flatten()\n",
    "\n",
    "# Appliquer aux jeux d'entraînement et de test\n",
    "X_train_use = np.array([get_use_features(text, use_model) for text in X_train['clean_title'] + \" \" + X_train['clean_body']])\n",
    "X_test_use = np.array([get_use_features(text, use_model) for text in X_test['clean_title'] + \" \" + X_test['clean_body']])"
   ]
  }
 ],
 "metadata": {
  "kernelspec": {
   "display_name": "Python 3 (ipykernel)",
   "language": "python",
   "name": "python3"
  },
  "language_info": {
   "codemirror_mode": {
    "name": "ipython",
    "version": 3
   },
   "file_extension": ".py",
   "mimetype": "text/x-python",
   "name": "python",
   "nbconvert_exporter": "python",
   "pygments_lexer": "ipython3",
   "version": "3.11.7"
  }
 },
 "nbformat": 4,
 "nbformat_minor": 5
}
