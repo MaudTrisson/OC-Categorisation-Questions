{
 "cells": [
  {
   "cell_type": "code",
   "execution_count": 11,
   "id": "8e9a1c6e-270d-428b-a198-f3615c64d8fa",
   "metadata": {},
   "outputs": [
    {
     "ename": "ModuleNotFoundError",
     "evalue": "No module named 'mlflow.sklearn'",
     "output_type": "error",
     "traceback": [
      "\u001b[1;31m---------------------------------------------------------------------------\u001b[0m",
      "\u001b[1;31mModuleNotFoundError\u001b[0m                       Traceback (most recent call last)",
      "Cell \u001b[1;32mIn[11], line 2\u001b[0m\n\u001b[0;32m      1\u001b[0m \u001b[38;5;28;01mimport\u001b[39;00m \u001b[38;5;21;01mmlflow\u001b[39;00m\n\u001b[1;32m----> 2\u001b[0m \u001b[38;5;28;01mimport\u001b[39;00m \u001b[38;5;21;01mmlflow\u001b[39;00m\u001b[38;5;21;01m.\u001b[39;00m\u001b[38;5;21;01msklearn\u001b[39;00m\n\u001b[0;32m      3\u001b[0m \u001b[38;5;28;01mfrom\u001b[39;00m \u001b[38;5;21;01mtime\u001b[39;00m \u001b[38;5;28;01mimport\u001b[39;00m time\n\u001b[0;32m      4\u001b[0m \u001b[38;5;28;01mfrom\u001b[39;00m \u001b[38;5;21;01msklearn\u001b[39;00m\u001b[38;5;21;01m.\u001b[39;00m\u001b[38;5;21;01mmetrics\u001b[39;00m \u001b[38;5;28;01mimport\u001b[39;00m (accuracy_score, precision_score, recall_score, f1_score,\n\u001b[0;32m      5\u001b[0m                              hamming_loss, jaccard_score, confusion_matrix, roc_curve, auc)\n",
      "\u001b[1;31mModuleNotFoundError\u001b[0m: No module named 'mlflow.sklearn'"
     ]
    }
   ],
   "source": [
    "import mlflow\n",
    "import mlflow.sklearn\n",
    "from time import time\n",
    "from sklearn.metrics import (accuracy_score, precision_score, recall_score, f1_score,\n",
    "                             hamming_loss, jaccard_score, confusion_matrix, roc_curve, auc)\n",
    "import matplotlib.pyplot as plt\n",
    "import numpy as np\n"
   ]
  },
  {
   "cell_type": "markdown",
   "id": "8570ee47-03de-48f5-a9ba-762aab43279a",
   "metadata": {},
   "source": [
    "## Récupération des données via l'API"
   ]
  },
  {
   "cell_type": "code",
   "execution_count": null,
   "id": "1f8cdede-518a-43d0-b346-7309401f4359",
   "metadata": {
    "scrolled": true
   },
   "outputs": [],
   "source": [
    "import requests\n",
    "import time\n",
    "import csv\n",
    "\n",
    "def fetch_questions(page, pagesize, key):\n",
    "    url = \"https://api.stackexchange.com/2.3/questions\"\n",
    "    params = {\n",
    "        \"page\": page,\n",
    "        \"pagesize\": pagesize,\n",
    "        \"order\": \"desc\",\n",
    "        \"sort\": \"votes\",\n",
    "        \"site\": \"stackoverflow\",\n",
    "        \"filter\": \"!9_bDDxJY5\",  # Custom filter to include necessary fields\n",
    "        \"key\": key  # Include your API key here\n",
    "    }\n",
    "    response = requests.get(url, params=params)\n",
    "    if response.status_code == 502:\n",
    "        retry_after = int(response.headers.get('Retry-After', 1))\n",
    "        print(f\"Rate limit exceeded. Retrying after {retry_after} seconds.\")\n",
    "        time.sleep(retry_after)\n",
    "        return fetch_questions(page, pagesize, key)\n",
    "    response.raise_for_status()  # Raises HTTPError for bad responses\n",
    "    return response.json()\n",
    "\n",
    "def filter_questions(questions):\n",
    "    filtered = []\n",
    "    for question in questions:\n",
    "        # Check for view count and minimum number of tags\n",
    "        if (question['view_count'] > 0 and\n",
    "                question['score'] > 0 and\n",
    "                question.get('favorite_count', 0) > 0 and\n",
    "                len(question['tags']) - len(replace(question['tags'], '<','')) >= 5:\n",
    "            filtered.append({\n",
    "                \"title\": question['title'],\n",
    "                \"body\": question['body'],\n",
    "                \"link\": question['link'],\n",
    "                \"view_count\": question['view_count'],\n",
    "                \"score\": question['score'],\n",
    "                \"tags\": ','.join(question['tags'])\n",
    "            })\n",
    "    return filtered\n",
    "\n",
    "def main():\n",
    "    all_questions = []\n",
    "    page = 1\n",
    "    pagesize = 50  # API limit for each batch\n",
    "    max_questions = 50000\n",
    "    api_key = \"rl_Vssw9iwuVvjuT8agzZnVhH9J3\"  # Replace with your actual API key\n",
    "\n",
    "    while len(all_questions) < max_questions:\n",
    "        try:\n",
    "            data = fetch_questions(page, pagesize, api_key)\n",
    "        except requests.exceptions.HTTPError as err:\n",
    "            print(f\"HTTP error occurred: {err}\")\n",
    "            break\n",
    "\n",
    "        filtered_questions = filter_questions(data['items'])\n",
    "        all_questions.extend(filtered_questions)\n",
    "        page += 1\n",
    "\n",
    "        if 'has_more' not in data or not data['has_more']:\n",
    "            break\n",
    "\n",
    "        # Respect API rate limits with dynamic sleep\n",
    "        retry_after = int(data.get('backoff', 1))\n",
    "        print(f\"Pausing for {retry_after} seconds to respect rate limits.\")\n",
    "        time.sleep(retry_after)\n",
    "\n",
    "    # Truncate the list to the desired number of questions\n",
    "    all_questions = all_questions[:max_questions]\n",
    "\n",
    "    # Save the questions to a CSV file\n",
    "    csv_file = 'filtered_questions.csv'\n",
    "    csv_columns = [\"title\", \"body\", \"link\", \"view_count\", \"score\", \"tags\"]\n",
    "    \n",
    "    with open(csv_file, 'w', newline='', encoding='utf-8') as csvfile:\n",
    "        writer = csv.DictWriter(csvfile, fieldnames=csv_columns)\n",
    "        writer.writeheader()\n",
    "        for question in all_questions:\n",
    "            writer.writerow(question)\n",
    "\n",
    "    print(f\"Collected {len(all_questions)} questions and saved to {csv_file}\")\n",
    "\n",
    "if __name__ == \"__main__\":\n",
    "    main()"
   ]
  },
  {
   "cell_type": "markdown",
   "id": "b1aa58f1-1239-4393-82d2-ba64a677770f",
   "metadata": {},
   "source": [
    "client id : 29476  \n",
    "client secret : f*qvwypgwfHuuUzVJ4abow((  \n",
    "key : rl_Vssw9iwuVvjuT8agzZnVhH9J3  \n",
    "code : bOaC6F5f5Ct57Bcd7j0gPA))  "
   ]
  }
 ],
 "metadata": {
  "kernelspec": {
   "display_name": "Python 3 (ipykernel)",
   "language": "python",
   "name": "python3"
  },
  "language_info": {
   "codemirror_mode": {
    "name": "ipython",
    "version": 3
   },
   "file_extension": ".py",
   "mimetype": "text/x-python",
   "name": "python",
   "nbconvert_exporter": "python",
   "pygments_lexer": "ipython3",
   "version": "3.12.4"
  }
 },
 "nbformat": 4,
 "nbformat_minor": 5
}
